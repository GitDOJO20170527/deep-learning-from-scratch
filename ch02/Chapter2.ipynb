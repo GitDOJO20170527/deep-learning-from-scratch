{
 "cells": [
  {
   "cell_type": "code",
   "execution_count": 5,
   "metadata": {},
   "outputs": [
    {
     "name": "stderr",
     "output_type": "stream",
     "text": [
      "test_AND (__main__.Ch02TestCase) ... ok\n",
      "test_NAND (__main__.Ch02TestCase) ... ok\n",
      "test_OR (__main__.Ch02TestCase) ... ok\n",
      "test_XOR (__main__.Ch02TestCase) ... ok\n",
      "\n",
      "----------------------------------------------------------------------\n",
      "Ran 4 tests in 0.019s\n",
      "\n",
      "OK\n"
     ]
    }
   ],
   "source": [
    "# coding: utf-8\n",
    "\n",
    "from unittest import TestCase, main\n",
    "from and_gate import AND\n",
    "from or_gate import OR\n",
    "from nand_gate import NAND\n",
    "from xor_gate import XOR\n",
    "\n",
    "class Ch02TestCase(TestCase):\n",
    "    def test_AND(self):\n",
    "        # (+ (* 1 0.5) (* 1 0.5)) ;; 1.0\n",
    "        self.assertEqual(1, AND(1, 1)) \n",
    "\n",
    "        # (+ (* 0.4 0.5) (* 1.02 0.5)) ;; 0.71\n",
    "        self.assertEqual(1, AND(0.4, 1.02)) \n",
    "\n",
    "        # (+ (* 0.4 0.5) (* 1. 0.5)) ;; 0.7\n",
    "        self.assertEqual(0, AND(0.4, 1)) \n",
    "\n",
    "    def test_OR(self):\n",
    "        # (+ (* 1 0.5) (* 1 0.5)) ;; 1.0\n",
    "        self.assertEqual(1, OR(1, 1)) \n",
    "\n",
    "        # (+ (* 0.2 0.5) (* 0.21 0.5)) ;; 0.205\n",
    "        self.assertEqual(1, OR(0.2, 0.21)) \n",
    "\n",
    "        # (+ (* 0.2 0.5) (* 0.2 0.5)) ;; 0.2\n",
    "        self.assertEqual(0, OR(0.2, 0.2)) \n",
    "\n",
    "    def test_NAND(self):\n",
    "        # (+ (* 1 -0.5) (* 1 -0.5)) ;; -1.0\n",
    "        self.assertEqual(0, NAND(1, 1)) \n",
    "\n",
    "        # (+ (* 0.4 -0.5) (* 1. -0.5)) ;; -0.7\n",
    "        self.assertEqual(0, NAND(0.4, 1)) \n",
    "\n",
    "        # (+ (* 0.4 -0.5) (* 0.99 -0.5)) ;; -0.695\n",
    "        self.assertEqual(1, NAND(0.4, 0.99)) \n",
    "\n",
    "    def test_XOR(self):\n",
    "        self.assertEqual(0, XOR(0, 0)) \n",
    "        self.assertEqual(1, XOR(1, 0)) \n",
    "        self.assertEqual(1, XOR(0, 1)) \n",
    "        self.assertEqual(0, XOR(1, 1)) \n",
    "\n",
    "if __name__ == '__main__':\n",
    "    main(argv=['ignored', '-v'], exit=False)"
   ]
  }
 ],
 "metadata": {
  "celltoolbar": "Slideshow",
  "kernelspec": {
   "display_name": "Python 3",
   "language": "python",
   "name": "python3"
  },
  "language_info": {
   "codemirror_mode": {
    "name": "ipython",
    "version": 3
   },
   "file_extension": ".py",
   "mimetype": "text/x-python",
   "name": "python",
   "nbconvert_exporter": "python",
   "pygments_lexer": "ipython3",
   "version": "3.6.1"
  }
 },
 "nbformat": 4,
 "nbformat_minor": 2
}
